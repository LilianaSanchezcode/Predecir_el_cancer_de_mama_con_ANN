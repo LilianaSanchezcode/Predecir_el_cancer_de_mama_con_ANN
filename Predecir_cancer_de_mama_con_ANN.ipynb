{
  "nbformat": 4,
  "nbformat_minor": 0,
  "metadata": {
    "colab": {
      "name": "Predecir cancer de mama con ANN.ipynb",
      "provenance": [],
      "collapsed_sections": []
    },
    "kernelspec": {
      "name": "python3",
      "display_name": "Python 3"
    },
    "accelerator": "GPU"
  },
  "cells": [
    {
      "cell_type": "markdown",
      "metadata": {
        "id": "Oex88qd38Thn"
      },
      "source": [
        "**Predecir el cáncer de mama (maligno, benigno, clasificación binaria), mediante Redes Neuronales Artificiales (ANN)**"
      ]
    },
    {
      "cell_type": "markdown",
      "metadata": {
        "id": "PL3mLe1gnNIi"
      },
      "source": [
        "**Conjunto de datos**\n",
        "\n",
        "\n",
        "Breast Cancer Wisconsin (Diagnostic)\n",
        "\n",
        "\n",
        "\n",
        "Data Set:\n",
        "https://archive.ics.uci.edu/ml/datasets/Breast+Cancer+Wisconsin+(Diagnostic)\n"
      ]
    },
    {
      "cell_type": "markdown",
      "metadata": {
        "id": "HLZ9F3xUdVKJ"
      },
      "source": [
        "**Predecir el cáncer maligno o benigno**. El objetivo es clasificar si el cáncer de mama es benigno o maligno.El modelado de imágenes digitales para la clasificación del cáncer de mama se logra mediante redes neuronales artificiales, entrenada en las imágenes.\n"
      ]
    },
    {
      "cell_type": "markdown",
      "metadata": {
        "id": "FzG5PC3GbWL0"
      },
      "source": [
        "En esta primera celda cargaremos los archivos CSV que contienen los datos preordenados y prenormales.\n",
        "Para estos, utilicé el conjunto de datos de cáncer de mama de Wisconsin, lo clasifiqué en conjuntos de entrenamiento y prueba con los valores de 'entrada' a la red neuronal como valores 'X' y la 'salida' esperada (un 0 si es benigno y un 1 si es maligno) como los valores de  'Y'."
      ]
    },
    {
      "cell_type": "code",
      "metadata": {
        "id": "m_NRnXsJzphf",
        "colab": {
          "resources": {
            "http://localhost:8080/nbextensions/google.colab/files.js": {
              "data": "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",
              "ok": true,
              "headers": [
                [
                  "content-type",
                  "application/javascript"
                ]
              ],
              "status": 200,
              "status_text": ""
            }
          },
          "base_uri": "https://localhost:8080/",
          "height": 175
        },
        "outputId": "dd44b88c-5faa-4cc5-b6bc-94934ddfb7a8"
      },
      "source": [
        "import pandas as pd\n",
        "from google.colab import files\n",
        "file = files.upload()\n",
        "X_train = pd.read_csv(\"xtrain.csv\", header=None)\n",
        "Y_train = pd.read_csv(\"ytrain.csv\", header=None)\n",
        "X_test = pd.read_csv(\"xtest.csv\", header=None)\n",
        "Y_test = pd.read_csv(\"ytest.csv\", header=None)"
      ],
      "execution_count": null,
      "outputs": [
        {
          "output_type": "display_data",
          "data": {
            "text/html": [
              "\n",
              "     <input type=\"file\" id=\"files-4a89c0b0-4ef0-4321-b4f5-f935ae7942fc\" name=\"files[]\" multiple disabled\n",
              "        style=\"border:none\" />\n",
              "     <output id=\"result-4a89c0b0-4ef0-4321-b4f5-f935ae7942fc\">\n",
              "      Upload widget is only available when the cell has been executed in the\n",
              "      current browser session. Please rerun this cell to enable.\n",
              "      </output>\n",
              "      <script src=\"/nbextensions/google.colab/files.js\"></script> "
            ],
            "text/plain": [
              "<IPython.core.display.HTML object>"
            ]
          },
          "metadata": {
            "tags": []
          }
        },
        {
          "output_type": "stream",
          "text": [
            "Saving xtest.csv to xtest.csv\n",
            "Saving xtrain.csv to xtrain.csv\n",
            "Saving ytest.csv to ytest.csv\n",
            "Saving ytrain.csv to ytrain.csv\n"
          ],
          "name": "stdout"
        }
      ]
    },
    {
      "cell_type": "markdown",
      "metadata": {
        "id": "bL4z0BArzqff"
      },
      "source": [
        "\n",
        "Ahora voy a usar Keras para definir una red neuronal que se entrenará a partir de estos datos. Esta red neuronal se puede utilizar para predecir los valores futuros de la presencia de cáncer de mama.Se usa API de Keras\n",
        "\n"
      ]
    },
    {
      "cell_type": "code",
      "metadata": {
        "id": "LoWtmalR80De"
      },
      "source": [
        "from keras.models import Sequential\n",
        "from keras.layers import Dense\n",
        "\n",
        "classifier = Sequential() # Initialising the ANN\n",
        "classifier.add(Dense(units = 16, activation = 'relu', input_dim = 30))\n",
        "classifier.add(Dense(units = 8, activation = 'relu'))\n",
        "classifier.add(Dense(units = 6, activation = 'relu'))    # Cada celda tiene 30 caracteristicas\n",
        "classifier.add(Dense(units = 1, activation = 'sigmoid'))  #la red neuronal se activa con la función de activación sigmoide\n"
      ],
      "execution_count": null,
      "outputs": []
    },
    {
      "cell_type": "markdown",
      "metadata": {
        "id": "cJ_MStxe9CbN"
      },
      "source": [
        "Once the Neural Network is defined, I now have to specify is the optimizer and loss function.\n",
        "\n",
        "\n",
        "Una vez que se define la red neuronal, ahora tengo que especificar el optimizador y la función de pérdida.\n",
        "\n"
      ]
    },
    {
      "cell_type": "code",
      "metadata": {
        "id": "wR2O00E39C7E"
      },
      "source": [
        "classifier.compile(optimizer = 'rmsprop', loss = 'binary_crossentropy')"
      ],
      "execution_count": null,
      "outputs": []
    },
    {
      "cell_type": "markdown",
      "metadata": {
        "id": "Mn9WPqaP9RmN"
      },
      "source": [
        "Ahora entrena la red neuronal usando Classifier.fit, pasándole los datos de entrenamiento, es decir, para este conjunto  X, así es como debería verse la Y. \n",
        "\n",
        "Luego, la NN detectará los patrones en los datos y construirá una red neuronal que podría replicar eso."
      ]
    },
    {
      "cell_type": "code",
      "metadata": {
        "id": "1QlYnFgH9N49",
        "colab": {
          "base_uri": "https://localhost:8080/"
        },
        "outputId": "272e359c-5135-4b11-9f4e-71375c2b594a"
      },
      "source": [
        "classifier.fit(X_train, Y_train, batch_size = 1, epochs = 100)   "
      ],
      "execution_count": null,
      "outputs": [
        {
          "output_type": "stream",
          "text": [
            "Epoch 1/100\n",
            "455/455 [==============================] - 4s 2ms/step - loss: 0.6185\n",
            "Epoch 2/100\n",
            "455/455 [==============================] - 1s 2ms/step - loss: 0.1553\n",
            "Epoch 3/100\n",
            "455/455 [==============================] - 1s 2ms/step - loss: 0.1218\n",
            "Epoch 4/100\n",
            "455/455 [==============================] - 1s 2ms/step - loss: 0.0442\n",
            "Epoch 5/100\n",
            "455/455 [==============================] - 1s 2ms/step - loss: 0.0523\n",
            "Epoch 6/100\n",
            "455/455 [==============================] - 1s 2ms/step - loss: 0.1359\n",
            "Epoch 7/100\n",
            "455/455 [==============================] - 1s 2ms/step - loss: 0.1013\n",
            "Epoch 8/100\n",
            "455/455 [==============================] - 1s 2ms/step - loss: 0.0417\n",
            "Epoch 9/100\n",
            "455/455 [==============================] - 1s 2ms/step - loss: 0.0630\n",
            "Epoch 10/100\n",
            "455/455 [==============================] - 1s 2ms/step - loss: 0.1200\n",
            "Epoch 11/100\n",
            "455/455 [==============================] - 1s 2ms/step - loss: 0.0528\n",
            "Epoch 12/100\n",
            "455/455 [==============================] - 1s 2ms/step - loss: 0.1095\n",
            "Epoch 13/100\n",
            "455/455 [==============================] - 1s 2ms/step - loss: 0.0912\n",
            "Epoch 14/100\n",
            "455/455 [==============================] - 1s 2ms/step - loss: 0.0832\n",
            "Epoch 15/100\n",
            "455/455 [==============================] - 1s 2ms/step - loss: 0.1055\n",
            "Epoch 16/100\n",
            "455/455 [==============================] - 1s 2ms/step - loss: 0.0673\n",
            "Epoch 17/100\n",
            "455/455 [==============================] - 1s 2ms/step - loss: 0.0887\n",
            "Epoch 18/100\n",
            "455/455 [==============================] - 1s 2ms/step - loss: 0.1185\n",
            "Epoch 19/100\n",
            "455/455 [==============================] - 1s 2ms/step - loss: 0.1085\n",
            "Epoch 20/100\n",
            "455/455 [==============================] - 1s 2ms/step - loss: 0.0833\n",
            "Epoch 21/100\n",
            "455/455 [==============================] - 1s 2ms/step - loss: 0.0618\n",
            "Epoch 22/100\n",
            "455/455 [==============================] - 1s 2ms/step - loss: 0.0388\n",
            "Epoch 23/100\n",
            "455/455 [==============================] - 1s 2ms/step - loss: 0.0784\n",
            "Epoch 24/100\n",
            "455/455 [==============================] - 1s 2ms/step - loss: 0.0815\n",
            "Epoch 25/100\n",
            "455/455 [==============================] - 1s 2ms/step - loss: 0.0618\n",
            "Epoch 26/100\n",
            "455/455 [==============================] - 1s 2ms/step - loss: 0.0255\n",
            "Epoch 27/100\n",
            "455/455 [==============================] - 1s 2ms/step - loss: 0.0313\n",
            "Epoch 28/100\n",
            "455/455 [==============================] - 1s 2ms/step - loss: 0.1292\n",
            "Epoch 29/100\n",
            "455/455 [==============================] - 1s 2ms/step - loss: 0.0271\n",
            "Epoch 30/100\n",
            "455/455 [==============================] - 1s 2ms/step - loss: 0.0676\n",
            "Epoch 31/100\n",
            "455/455 [==============================] - 1s 2ms/step - loss: 0.1065\n",
            "Epoch 32/100\n",
            "455/455 [==============================] - 1s 2ms/step - loss: 0.0588\n",
            "Epoch 33/100\n",
            "455/455 [==============================] - 1s 2ms/step - loss: 0.0368\n",
            "Epoch 34/100\n",
            "455/455 [==============================] - 1s 2ms/step - loss: 0.0547\n",
            "Epoch 35/100\n",
            "455/455 [==============================] - 1s 2ms/step - loss: 0.0815\n",
            "Epoch 36/100\n",
            "455/455 [==============================] - 1s 2ms/step - loss: 0.0385\n",
            "Epoch 37/100\n",
            "455/455 [==============================] - 1s 2ms/step - loss: 0.0497\n",
            "Epoch 38/100\n",
            "455/455 [==============================] - 1s 2ms/step - loss: 0.0496\n",
            "Epoch 39/100\n",
            "455/455 [==============================] - 1s 2ms/step - loss: 0.0197\n",
            "Epoch 40/100\n",
            "455/455 [==============================] - 1s 2ms/step - loss: 0.0140\n",
            "Epoch 41/100\n",
            "455/455 [==============================] - 1s 2ms/step - loss: 0.0335\n",
            "Epoch 42/100\n",
            "455/455 [==============================] - 1s 2ms/step - loss: 0.0302\n",
            "Epoch 43/100\n",
            "455/455 [==============================] - 1s 2ms/step - loss: 0.0461\n",
            "Epoch 44/100\n",
            "455/455 [==============================] - 1s 2ms/step - loss: 0.0473\n",
            "Epoch 45/100\n",
            "455/455 [==============================] - 1s 2ms/step - loss: 0.0450\n",
            "Epoch 46/100\n",
            "455/455 [==============================] - 1s 2ms/step - loss: 0.0374\n",
            "Epoch 47/100\n",
            "455/455 [==============================] - 1s 2ms/step - loss: 0.0616\n",
            "Epoch 48/100\n",
            "455/455 [==============================] - 1s 2ms/step - loss: 0.0303\n",
            "Epoch 49/100\n",
            "455/455 [==============================] - 1s 2ms/step - loss: 0.0687\n",
            "Epoch 50/100\n",
            "455/455 [==============================] - 1s 2ms/step - loss: 0.0504\n",
            "Epoch 51/100\n",
            "455/455 [==============================] - 1s 2ms/step - loss: 0.0268\n",
            "Epoch 52/100\n",
            "455/455 [==============================] - 1s 2ms/step - loss: 0.0298\n",
            "Epoch 53/100\n",
            "455/455 [==============================] - 1s 2ms/step - loss: 0.0210\n",
            "Epoch 54/100\n",
            "455/455 [==============================] - 1s 2ms/step - loss: 0.0286\n",
            "Epoch 55/100\n",
            "455/455 [==============================] - 1s 2ms/step - loss: 0.0364\n",
            "Epoch 56/100\n",
            "455/455 [==============================] - 1s 2ms/step - loss: 0.0533\n",
            "Epoch 57/100\n",
            "455/455 [==============================] - 1s 2ms/step - loss: 0.0151\n",
            "Epoch 58/100\n",
            "455/455 [==============================] - 1s 2ms/step - loss: 0.0313\n",
            "Epoch 59/100\n",
            "455/455 [==============================] - 1s 2ms/step - loss: 0.0495\n",
            "Epoch 60/100\n",
            "455/455 [==============================] - 1s 2ms/step - loss: 0.0468\n",
            "Epoch 61/100\n",
            "455/455 [==============================] - 1s 2ms/step - loss: 0.0182\n",
            "Epoch 62/100\n",
            "455/455 [==============================] - 1s 2ms/step - loss: 0.0271\n",
            "Epoch 63/100\n",
            "455/455 [==============================] - 1s 2ms/step - loss: 0.0072\n",
            "Epoch 64/100\n",
            "455/455 [==============================] - 1s 2ms/step - loss: 0.0063\n",
            "Epoch 65/100\n",
            "455/455 [==============================] - 1s 2ms/step - loss: 0.0129\n",
            "Epoch 66/100\n",
            "455/455 [==============================] - 1s 2ms/step - loss: 0.0063\n",
            "Epoch 67/100\n",
            "455/455 [==============================] - 1s 2ms/step - loss: 0.0377\n",
            "Epoch 68/100\n",
            "455/455 [==============================] - 1s 2ms/step - loss: 0.0140\n",
            "Epoch 69/100\n",
            "455/455 [==============================] - 1s 2ms/step - loss: 0.0195\n",
            "Epoch 70/100\n",
            "455/455 [==============================] - 1s 2ms/step - loss: 0.0154\n",
            "Epoch 71/100\n",
            "455/455 [==============================] - 1s 2ms/step - loss: 0.0407\n",
            "Epoch 72/100\n",
            "455/455 [==============================] - 1s 2ms/step - loss: 0.0102\n",
            "Epoch 73/100\n",
            "455/455 [==============================] - 1s 2ms/step - loss: 0.0167\n",
            "Epoch 74/100\n",
            "455/455 [==============================] - 1s 2ms/step - loss: 0.0144\n",
            "Epoch 75/100\n",
            "455/455 [==============================] - 1s 2ms/step - loss: 0.0132\n",
            "Epoch 76/100\n",
            "455/455 [==============================] - 1s 2ms/step - loss: 0.0130\n",
            "Epoch 77/100\n",
            "455/455 [==============================] - 1s 2ms/step - loss: 0.0116\n",
            "Epoch 78/100\n",
            "455/455 [==============================] - 1s 2ms/step - loss: 0.0104\n",
            "Epoch 79/100\n",
            "455/455 [==============================] - 1s 2ms/step - loss: 0.0178\n",
            "Epoch 80/100\n",
            "455/455 [==============================] - 1s 2ms/step - loss: 0.0315\n",
            "Epoch 81/100\n",
            "455/455 [==============================] - 1s 2ms/step - loss: 0.0128\n",
            "Epoch 82/100\n",
            "455/455 [==============================] - 1s 2ms/step - loss: 0.0071\n",
            "Epoch 83/100\n",
            "455/455 [==============================] - 1s 2ms/step - loss: 0.0030\n",
            "Epoch 84/100\n",
            "455/455 [==============================] - 1s 2ms/step - loss: 0.0063\n",
            "Epoch 85/100\n",
            "455/455 [==============================] - 1s 2ms/step - loss: 0.0022\n",
            "Epoch 86/100\n",
            "455/455 [==============================] - 1s 2ms/step - loss: 0.0029\n",
            "Epoch 87/100\n",
            "455/455 [==============================] - 1s 2ms/step - loss: 0.0025\n",
            "Epoch 88/100\n",
            "455/455 [==============================] - 1s 2ms/step - loss: 0.0025\n",
            "Epoch 89/100\n",
            "455/455 [==============================] - 1s 2ms/step - loss: 0.0103\n",
            "Epoch 90/100\n",
            "455/455 [==============================] - 1s 2ms/step - loss: 0.0038\n",
            "Epoch 91/100\n",
            "455/455 [==============================] - 1s 2ms/step - loss: 0.0059\n",
            "Epoch 92/100\n",
            "455/455 [==============================] - 1s 2ms/step - loss: 0.0058\n",
            "Epoch 93/100\n",
            "455/455 [==============================] - 1s 2ms/step - loss: 0.0074\n",
            "Epoch 94/100\n",
            "455/455 [==============================] - 1s 2ms/step - loss: 0.0060\n",
            "Epoch 95/100\n",
            "455/455 [==============================] - 1s 2ms/step - loss: 0.0027\n",
            "Epoch 96/100\n",
            "455/455 [==============================] - 1s 2ms/step - loss: 0.0044\n",
            "Epoch 97/100\n",
            "455/455 [==============================] - 1s 2ms/step - loss: 0.0021\n",
            "Epoch 98/100\n",
            "455/455 [==============================] - 1s 2ms/step - loss: 0.0018\n",
            "Epoch 99/100\n",
            "455/455 [==============================] - 1s 2ms/step - loss: 0.0048\n",
            "Epoch 100/100\n",
            "455/455 [==============================] - 1s 2ms/step - loss: 3.1474e-04\n"
          ],
          "name": "stdout"
        },
        {
          "output_type": "execute_result",
          "data": {
            "text/plain": [
              "<tensorflow.python.keras.callbacks.History at 0x7f5a103c5350>"
            ]
          },
          "metadata": {
            "tags": []
          },
          "execution_count": 9
        }
      ]
    },
    {
      "cell_type": "markdown",
      "metadata": {
        "id": "yrnGgtfn9gsE"
      },
      "source": [
        "\n",
        "Para **predecir nuevos valores**, la red neuronal usa classifier.predict. Voy a pasarle los valores de prueba para X (que la red neuronal no ha visto anteriormente) y me devolverá un conjunto de predicciones. Estas predicciones serán probabilidades, así que las limpiaré diciendo que si son mayores que 0,5, las haré 1, de lo contrario las haré 0.\n",
        "\n",
        "\n"
      ]
    },
    {
      "cell_type": "code",
      "metadata": {
        "id": "xEaG0Tkx9fUU"
      },
      "source": [
        "Y_pred = classifier.predict(X_test)\n",
        "Y_pred = [ 1 if y>=0.5 else 0 for y in Y_pred ]"
      ],
      "execution_count": null,
      "outputs": []
    },
    {
      "cell_type": "code",
      "metadata": {
        "id": "bQmhzyevYXD3"
      },
      "source": [
        "Y_pred"
      ],
      "execution_count": null,
      "outputs": []
    },
    {
      "cell_type": "code",
      "metadata": {
        "id": "EUd4J__lYeSz"
      },
      "source": [
        ""
      ],
      "execution_count": null,
      "outputs": []
    },
    {
      "cell_type": "markdown",
      "metadata": {
        "id": "oQK3Qo9h97OW"
      },
      "source": [
        "\n",
        "Ahora podemos recorrer el conjunto de predicciones para el conjunto de prueba (llamado Y_pred) y los valores reales (actuales, obsrvados) para el conjunto de prueba (llamado Y_test), y ver qué tan similares son; si son iguales, incrementaré 'correcto ', de lo contrario, lo haré como' incorrecto'.\n",
        "\n",
        "Verá que el resultado es 100% preciso, a pesar de que la red neuronal informó una precisión menor que eso. ¿Por qué?\n",
        "\n",
        "\n"
      ]
    },
    {
      "cell_type": "code",
      "metadata": {
        "id": "he_2VHJ_9yC1",
        "colab": {
          "base_uri": "https://localhost:8080/"
        },
        "outputId": "6569c5b0-5858-4852-b2e3-2493b54d176a"
      },
      "source": [
        "total = 0\n",
        "correct = 0\n",
        "wrong = 0\n",
        "\n",
        "\n",
        "for i in Y_pred:\n",
        "\n",
        "  total=total+1\n",
        "  if(Y_test.at[i,0] == Y_pred[i]):\n",
        "    correct=correct+1\n",
        "\n",
        "  else:\n",
        "    wrong=wrong+1\n",
        "\n",
        "print(\"Total \" + str(total))\n",
        "print(\"Correct \" + str(correct))\n",
        "print(\"Wrong \" + str(wrong))\n",
        "\n"
      ],
      "execution_count": null,
      "outputs": [
        {
          "output_type": "stream",
          "text": [
            "Total 114\n",
            "Correct 114\n",
            "Wrong 0\n"
          ],
          "name": "stdout"
        }
      ]
    }
  ]
}